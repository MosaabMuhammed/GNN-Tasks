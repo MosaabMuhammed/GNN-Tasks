{
  "nbformat": 4,
  "nbformat_minor": 0,
  "metadata": {
    "colab": {
      "provenance": [],
      "authorship_tag": "ABX9TyOHIuGW6GI9Un3eQ3FWQ42P",
      "include_colab_link": true
    },
    "kernelspec": {
      "name": "python3",
      "display_name": "Python 3"
    },
    "language_info": {
      "name": "python"
    }
  },
  "cells": [
    {
      "cell_type": "markdown",
      "metadata": {
        "id": "view-in-github",
        "colab_type": "text"
      },
      "source": [
        "<a href=\"https://colab.research.google.com/github/MosaabMuhammed/GNN-Tasks/blob/main/Graph_Classification.ipynb\" target=\"_parent\"><img src=\"https://colab.research.google.com/assets/colab-badge.svg\" alt=\"Open In Colab\"/></a>"
      ]
    },
    {
      "cell_type": "markdown",
      "source": [
        "# Graph Classification\n",
        "\n",
        "The goal of graph classification is to classify an entire graph instead of single nodes or edges. Therefore, we are also given a dataset of multiple graphs that we need to classify based on some structural graph properties.\n",
        "\n",
        "The most common task for graph classification is molecular property prediction, in which molcules are represented as graphs.\n",
        "\n",
        "Each atom is lined to a node, and edges in the graph are the bonds between atoms.\n",
        "\n",
        "![image.png](data:image/png;base64,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)"
      ],
      "metadata": {
        "id": "qxli5rtfZ1Dy"
      }
    },
    {
      "cell_type": "markdown",
      "source": [
        "On the left, we have an arbitrary, small molecule with different atoms, whereas the right part of the image shows the graph representation. The atom types are abstracted as node features (e.g. a one-hot vector), and the different bond types are used as edge features."
      ],
      "metadata": {
        "id": "wlSv0jHTSVmq"
      }
    },
    {
      "cell_type": "markdown",
      "source": [
        "The work in this notebook we rely on:\n",
        "- PyTorch\n",
        "- PyTorch Geometric\n",
        "- PyTorch Lightning"
      ],
      "metadata": {
        "id": "jrnlrZtRikfO"
      }
    },
    {
      "cell_type": "markdown",
      "source": [
        "## Imports"
      ],
      "metadata": {
        "id": "5LNXOmvvZ34a"
      }
    },
    {
      "cell_type": "code",
      "execution_count": 1,
      "metadata": {
        "colab": {
          "base_uri": "https://localhost:8080/"
        },
        "id": "c5Q5bbRWY-n-",
        "outputId": "fe95ec00-c9e0-4106-9a8c-9edf75075a96"
      },
      "outputs": [
        {
          "output_type": "stream",
          "name": "stderr",
          "text": [
            "INFO:lightning_fabric.utilities.seed:Global seed set to 42\n"
          ]
        },
        {
          "output_type": "stream",
          "name": "stdout",
          "text": [
            "cpu\n"
          ]
        }
      ],
      "source": [
        "import os\n",
        "import json\n",
        "import math\n",
        "import numpy as np\n",
        "import time\n",
        "\n",
        "## Imports for plotting\n",
        "import matplotlib.pyplot as plt\n",
        "%matplotlib inline\n",
        "from IPython.display import set_matplotlib_formats\n",
        "import matplotlib\n",
        "matplotlib.rcParams['lines.linewidth'] = 2.0\n",
        "import seaborn as sns\n",
        "sns.reset_orig()\n",
        "sns.set()\n",
        "\n",
        "## progress bar\n",
        "from tqdm.notebook import tqdm\n",
        "\n",
        "# PyTorch\n",
        "import torch\n",
        "import torch.nn as nn\n",
        "import torch.nn.functional as F\n",
        "import torch.utils.data as data\n",
        "import torch.optim as optim\n",
        "\n",
        "# TorchVision\n",
        "import torchvision\n",
        "from torchvision.datasets import CIFAR10\n",
        "from torchvision import transforms\n",
        "\n",
        "# PyTorch Lightning\n",
        "try:\n",
        "    import pytorch_lightning as pl\n",
        "except ModuleNotFoundError:\n",
        "    !pip install --quiet pytorch-lightning>=1.4\n",
        "    import pytorch_lightning as pl\n",
        "from pytorch_lightning.callbacks import LearningRateMonitor, ModelCheckpoint\n",
        "\n",
        "DATASET_PATH  = \"/content/dataset\"\n",
        "CHECKPOINT_PATH = \"/content/checkpoints\"\n",
        "\n",
        "# Setting the seed.\n",
        "pl.seed_everything(42)\n",
        "\n",
        "# Ensure that all operations are deterministic on GPU (if used) for reproducability\n",
        "torch.backends.cudnn.deterministic = True\n",
        "torch.backends.cudnn.benchmark = False\n",
        "\n",
        "device = torch.device(\"cuda:0\" if torch.cuda.is_available() else \"cpu\")\n",
        "print(device)"
      ]
    },
    {
      "cell_type": "markdown",
      "source": [
        "In this notebook, I will be using `PyTorch Geometric` as part of the PyTorch family."
      ],
      "metadata": {
        "id": "1jixlHMRjRvm"
      }
    },
    {
      "cell_type": "code",
      "source": [
        "try:\n",
        "    import torch_geometric\n",
        "except ModuleNotFoundError:\n",
        "    # Installing torch geometric packages with specific CUDA+PyTorch version.\n",
        "    # See https://pytorch-geometric.readthedocs.io/en/latest/notes/installation.html for details\n",
        "    TORCH = torch.__version__.split(\"+\")[0]\n",
        "    CUDA  = 'cu' + torch.version.cuda.replace('.', '')\n",
        "\n",
        "    !pip install torch-scatter     -f https://pytorch-geometric.com/whl/torch-{TORCH}+{CUDA}.html\n",
        "    !pip install torch-sparse      -f https://pytorch-geometric.com/whl/torch-{TORCH}+{CUDA}.html\n",
        "    !pip install torch-cluster     -f https://pytorch-geometric.com/whl/torch-{TORCH}+{CUDA}.html\n",
        "    !pip install torch-spline-conv -f https://pytorch-geometric.com/whl/torch-{TORCH}+{CUDA}.html\n",
        "    !pip install torch-geometric\n",
        "    import torch_geometric\n",
        "\n",
        "import torch_geometric.nn as geom_nn\n",
        "import torch_geometric.data as geom_data"
      ],
      "metadata": {
        "id": "Af4P2Dsziykn"
      },
      "execution_count": 8,
      "outputs": []
    },
    {
      "cell_type": "markdown",
      "source": [
        "`PyTorch Geometric` provides a set of common graph layers, including the GCN, GAT and GraphConv layers. <br>\n",
        "It also provides the common graph datasets and transformations on those to simplify training. <br>\n",
        "It uses a list of index pairs to represent the edges.\n",
        "\n",
        "Since I will be using 3 different graph layers, I will create a dictionary to select any one of them easily."
      ],
      "metadata": {
        "id": "Oujuzm8ojwUk"
      }
    },
    {
      "cell_type": "code",
      "source": [
        "gnn_layer_by_name = {\n",
        "    \"GCN\": geom_nn.GCNConv,\n",
        "    \"GAT\": geom_nn.GATConv,\n",
        "    \"GraphConv\": geom_nn.GraphConv\n",
        "}"
      ],
      "metadata": {
        "id": "HCsF8_a7jLOg"
      },
      "execution_count": 3,
      "outputs": []
    },
    {
      "cell_type": "markdown",
      "source": [
        "## Dataset\n",
        "\n",
        "The dataset we will use below is called the MUTAG dataset. It is a common small benchmark for graph classification algorithms, and contain 188 graphs with 18 nodes and 20 edges on average for each graph.\n",
        "\n",
        "The graph nodes have 7 different labels/atom types, and the binary graph labels represent “their mutagenic effect on a specific gram negative bacterium” (the specific meaning of the labels are not too important here).\n",
        "\n",
        "The dataset is part of a large collection of different graph classification datasets, known as the TUDatasets, which is directly accessible via `torch_geometric.datasets.TUDataset` in PyTorch Geometric.\n",
        "\n",
        "We can load the dataset below."
      ],
      "metadata": {
        "id": "OR0788SrkJiX"
      }
    },
    {
      "cell_type": "code",
      "source": [
        "tu_dataset = torch_geometric.datasets.TUDataset(root=DATASET_PATH, name=\"MUTAG\")"
      ],
      "metadata": {
        "id": "Qy8P-iE_jmGi",
        "colab": {
          "base_uri": "https://localhost:8080/"
        },
        "outputId": "9f701631-dd5b-49b4-e0f5-ae0a284f6645"
      },
      "execution_count": 4,
      "outputs": [
        {
          "output_type": "stream",
          "name": "stderr",
          "text": [
            "Downloading https://www.chrsmrrs.com/graphkerneldatasets/MUTAG.zip\n",
            "Extracting /content/dataset/MUTAG/MUTAG.zip\n",
            "Processing...\n",
            "Done!\n"
          ]
        }
      ]
    },
    {
      "cell_type": "markdown",
      "source": [
        "Let’s look at some statistics for the dataset:"
      ],
      "metadata": {
        "id": "zdbC8zcWqQO8"
      }
    },
    {
      "cell_type": "code",
      "source": [
        "print(\"Data object:\", tu_dataset.data)\n",
        "print(\"Length:\", len(tu_dataset))\n",
        "print(f\"Average label: {tu_dataset.data.y.float().mean().item():4.2f}\")"
      ],
      "metadata": {
        "colab": {
          "base_uri": "https://localhost:8080/"
        },
        "id": "LUGB_UYpqMmj",
        "outputId": "42acc5cc-6124-4141-ddbc-250f080bfaef"
      },
      "execution_count": 5,
      "outputs": [
        {
          "output_type": "stream",
          "name": "stdout",
          "text": [
            "Data object: Data(x=[3371, 7], edge_index=[2, 7442], edge_attr=[7442, 4], y=[188])\n",
            "Length: 188\n",
            "Average label: 0.66\n"
          ]
        },
        {
          "output_type": "stream",
          "name": "stderr",
          "text": [
            "/usr/local/lib/python3.10/dist-packages/torch_geometric/data/in_memory_dataset.py:157: UserWarning: It is not recommended to directly access the internal storage format `data` of an 'InMemoryDataset'. If you are absolutely certain what you are doing, access the internal storage via `InMemoryDataset._data` instead to suppress this warning. Alternatively, you can access stacked individual attributes of every graph via `dataset.{attr_name}`.\n",
            "  warnings.warn(msg)\n"
          ]
        }
      ]
    },
    {
      "cell_type": "markdown",
      "source": [
        "The first line shows how the dataset stores different graphs. The nodes, edges, and labels of each graph are concatenated to one tensor, and the dataset stores the indices where to split the tensors correspondingly.\n",
        "\n",
        "- edge_attr=[7442, 4]: This indicates that there are 7442 edges in the graph, and each edge has 4 attributes. Edge attributes are additional features associated with the edges of the graph.\n",
        "- edge_index=[2, 7442]: This shows the indices of the nodes that are connected by each edge. The first row contains the indices of the source nodes, and the second row contains the indices of the target nodes.\n",
        "- x=[3371, 7]: This shows the node features for each of the 3371 nodes in the graph. Each node has 7 features.\n",
        "- y=[188]: This shows the target label for the graph. In this case, there is only one label, which means that the graph is associated with a binary classification task (i.e., predicting one of two possible outcomes)."
      ],
      "metadata": {
        "id": "UCMVFiVmq9de"
      }
    },
    {
      "cell_type": "markdown",
      "source": [
        "The length of the dataset is the number of graphs we have, and the “average label” denotes the percentage of the graph with label 1. As long as the percentage is in the range of 0.5, we have a relatively balanced dataset. It happens quite often that graph datasets are very imbalanced, hence checking the class balance is always a good thing to do."
      ],
      "metadata": {
        "id": "NsyC8-_kVzbz"
      }
    },
    {
      "cell_type": "markdown",
      "source": [
        "## Split"
      ],
      "metadata": {
        "id": "H0WG4jSJV5qZ"
      }
    },
    {
      "cell_type": "code",
      "source": [
        "torch.manual_seed(42)\n",
        "tu_dataset.shuffle()\n",
        "train_dataset = tu_dataset[:150]\n",
        "test_dataset  = tu_dataset[150:]"
      ],
      "metadata": {
        "id": "3Ut-8rzNV7OL"
      },
      "execution_count": 6,
      "outputs": []
    },
    {
      "cell_type": "markdown",
      "source": [
        "When using a data loader, we encounter a problem with batching N graphs.\n",
        "Each graph in the batch can have a different number of nodes and edges, and hence we would require a lot of padding to obtain a single tensor.\n",
        "\n",
        "Torch geometric uses a different, more efficient approach: we can view the N graphs in a batch as a single large graph with concatenated node and edge list.\n",
        "\n",
        "As there is no edge between the N graphs, running GNN layes on the large graph gives us the same output as running the GNN on edge graph separately.\n",
        "\n",
        "Luckily, this strategy is already implemented in torch geometric, and hence we can use the corresponding data loader:"
      ],
      "metadata": {
        "id": "DRwt2ilSWFHC"
      }
    },
    {
      "cell_type": "code",
      "source": [
        "graph_train_loader = geom_data.DataLoader(train_dataset, batch_size=64, shuffle=True)\n",
        "graph_val_loader = geom_data.DataLoader(test_dataset, batch_size=64) # Additional loader if you want to change to a larger dataset\n",
        "graph_test_loader = geom_data.DataLoader(test_dataset, batch_size=64)"
      ],
      "metadata": {
        "colab": {
          "base_uri": "https://localhost:8080/"
        },
        "id": "RQDllurnWkA5",
        "outputId": "d9c53e5f-e739-46b7-e3eb-a2b15bf66c28"
      },
      "execution_count": 9,
      "outputs": [
        {
          "output_type": "stream",
          "name": "stderr",
          "text": [
            "/usr/local/lib/python3.10/dist-packages/torch_geometric/deprecation.py:22: UserWarning: 'data.DataLoader' is deprecated, use 'loader.DataLoader' instead\n",
            "  warnings.warn(out)\n"
          ]
        }
      ]
    },
    {
      "cell_type": "markdown",
      "source": [
        "Let’s load a batch below to see the batching in action:"
      ],
      "metadata": {
        "id": "qL64KJ9PWsr3"
      }
    },
    {
      "cell_type": "code",
      "source": [
        "batch = next(iter(graph_test_loader))\n",
        "print(\"Batch:\", batch)\n",
        "print(\"Labels:\", batch.y[:10])\n",
        "print(\"Batch indices:\", batch.batch[:40])"
      ],
      "metadata": {
        "colab": {
          "base_uri": "https://localhost:8080/"
        },
        "id": "h7wJ-jTgWvU_",
        "outputId": "987eda81-abb5-46da-dd57-d9381f0321b4"
      },
      "execution_count": 10,
      "outputs": [
        {
          "output_type": "stream",
          "name": "stdout",
          "text": [
            "Batch: DataBatch(edge_index=[2, 1512], x=[687, 7], edge_attr=[1512, 4], y=[38], batch=[687], ptr=[39])\n",
            "Labels: tensor([1, 1, 1, 0, 0, 0, 1, 1, 1, 0])\n",
            "Batch indices: tensor([0, 0, 0, 0, 0, 0, 0, 0, 0, 0, 0, 0, 1, 1, 1, 1, 1, 1, 1, 1, 1, 1, 1, 1,\n",
            "        1, 1, 1, 1, 1, 1, 1, 1, 1, 1, 2, 2, 2, 2, 2, 2])\n"
          ]
        }
      ]
    },
    {
      "cell_type": "markdown",
      "source": [
        "We have 38 graphs stacked together for the test dataset.\n",
        "\n",
        "The batch indices, stored in `batch`, show that the first 12 nodes belong to the first graph, the next 22 to the second graph, and so on.\n",
        "\n",
        "These indices are important for performing the final prediction. To perform a prediction over a whole graph, we usually perform a pooling operation over all nodes after  running the GNN model.\n",
        "\n",
        "In this case, we will use the average pooling. Hence, we need to know which nodes should be included in which average pool. Using this pooling, we can already create our graph network below."
      ],
      "metadata": {
        "id": "IzNPB2bHXME3"
      }
    },
    {
      "cell_type": "markdown",
      "source": [
        "## Model\n",
        "\n",
        "After having seen the data, we can implement a simple graph neural network.\n",
        "\n",
        "The GNN applies a sequence of graph layers (GCN, GAT, or GraphConv), ReLU as activation function, and dropout for regularization."
      ],
      "metadata": {
        "id": "JCoWCmS8semG"
      }
    },
    {
      "cell_type": "code",
      "source": [
        "class GNNModel(nn.Module):\n",
        "\n",
        "    def __init__(self, c_in, c_hidden, c_out, num_layers=2, layer_name=\"GCN\", dp_rate=0.1, **kwargs):\n",
        "        \"\"\"\n",
        "        Inputs:\n",
        "            c_in - Dimension of input features\n",
        "            c_hidden - Dimension of hidden features\n",
        "            c_out - Dimension of the output features. Usually number of classes in classification\n",
        "            num_layers - Number of \"hidden\" graph layers\n",
        "            layer_name - String of the graph layer to use\n",
        "            dp_rate - Dropout rate to apply throughout the network\n",
        "            kwargs - Additional arguments for the graph layer (e.g. number of heads for GAT)\n",
        "        \"\"\"\n",
        "        super().__init__()\n",
        "        gnn_layer = gnn_layer_by_name[layer_name]\n",
        "\n",
        "        layers = []\n",
        "        in_channels, out_channels = c_in, c_hidden\n",
        "        for l_idx in range(num_layers-1):\n",
        "            layers += [\n",
        "                gnn_layer(in_channels=in_channels,\n",
        "                          out_channels=out_channels,\n",
        "                          **kwargs),\n",
        "                nn.ReLU(inplace=True),\n",
        "                nn.Dropout(dp_rate)\n",
        "            ]\n",
        "            in_channels = c_hidden\n",
        "        layers += [gnn_layer(in_channels=in_channels,\n",
        "                             out_channels=c_out,\n",
        "                             **kwargs)]\n",
        "        self.layers = nn.ModuleList(layers)\n",
        "\n",
        "    def forward(self, x, edge_index):\n",
        "        \"\"\"\n",
        "        Inputs:\n",
        "            x - Input features per node\n",
        "            edge_index - List of vertex index pairs representing the edges in the graph (PyTorch geometric notation)\n",
        "        \"\"\"\n",
        "        for l in self.layers:\n",
        "            # For graph layers, we need to add the \"edge_index\" tensor as additional input\n",
        "            # All PyTorch Geometric graph layer inherit the class \"MessagePassing\", hence\n",
        "            # we can simply check the class type.\n",
        "            if isinstance(l, geom_nn.MessagePassing):\n",
        "                x = l(x, edge_index)\n",
        "            else:\n",
        "                x = l(x)\n",
        "        return x"
      ],
      "metadata": {
        "id": "674fTcwdqcWW"
      },
      "execution_count": 20,
      "outputs": []
    },
    {
      "cell_type": "code",
      "source": [
        "class GraphGNNModel(nn.Module):\n",
        "\n",
        "    def __init__(self, c_in, c_hidden, c_out, dp_rate_linear=0.5, **kwargs):\n",
        "        \"\"\"\n",
        "        Inputs:\n",
        "            c_in - Dimension of input features\n",
        "            c_hidden - Dimension of hidden features\n",
        "            c_out - Dimension of output features (usually number of classes)\n",
        "            dp_rate_linear - Dropout rate before the linear layer (usually much higher than inside the GNN)\n",
        "            kwargs - Additional arguments for the GNNModel object\n",
        "        \"\"\"\n",
        "        super().__init__()\n",
        "        self.GNN = GNNModel(c_in=c_in,\n",
        "                            c_hidden=c_hidden,\n",
        "                            c_out=c_hidden,  # Not our prediction output yet.\n",
        "                            **kwargs)\n",
        "        self.head = nn.Sequential(\n",
        "            nn.Dropout(dp_rate_linear),\n",
        "            nn.Linear(c_hidden, c_out)\n",
        "        )\n",
        "\n",
        "    def forward(self, x, edge_index, batch_idx):\n",
        "        \"\"\"\n",
        "        Inputs:\n",
        "            x - Input features per node\n",
        "            edge_index - List of vertex index pairs representing the edges\n",
        "            batch_idx  - Index of batch element for each node\n",
        "        \"\"\"\n",
        "        x = self.GNN(x, edge_index)\n",
        "        x = geom_nn.global_mean_pool(x, batch_idx) # Average Pooling\n",
        "        x = self.head(x)\n",
        "        return x\n"
      ],
      "metadata": {
        "id": "2z9B_GzJXwKm"
      },
      "execution_count": 19,
      "outputs": []
    },
    {
      "cell_type": "markdown",
      "source": [
        "Finally, we can merge the models into a PyTorch Lightning module which handles the training, validation, and testing for us out-of-the-box."
      ],
      "metadata": {
        "id": "xkYh3xacyK_r"
      }
    },
    {
      "cell_type": "code",
      "source": [
        "class GraphLevelGNN(pl.LightningModule):\n",
        "\n",
        "    def __init__(self, **model_kwargs):\n",
        "        super().__init__()\n",
        "        self.save_hyperparameters()\n",
        "\n",
        "        self.model = GraphGNNModel(**model_kwargs)\n",
        "        self.loss_module = nn.BCEWithLogitsLoss() if self.hparams.c_out == 1 else nn.CrossEntropyLoss()\n",
        "\n",
        "    def forward(self, data, mode=\"train\"):\n",
        "        x, edge_index, batch_idx = data.x, data.edge_index, data.batch\n",
        "        x = self.model(x, edge_index, batch_idx)\n",
        "        x = x.squeeze(dim=-1)\n",
        "\n",
        "        if self.hparams.c_out == 1:\n",
        "            preds = (x > 0).float()\n",
        "            data.y = data.y.float()\n",
        "        else:\n",
        "            preds = x.argmax(dim=-1)\n",
        "        loss = self.loss_module(x, data.y)\n",
        "        acc = (preds == data.y).sum().float() / preds.shape[0]\n",
        "        return loss, acc\n",
        "\n",
        "    def configure_optimizers(self):\n",
        "        optimizer = optim.AdamW(self.parameters(), lr=1e-2, weight_decay=0.0) # Higher lr because of small dataset and small model\n",
        "        return optimizer\n",
        "\n",
        "    def training_step(self, batch, batch_idx):\n",
        "        loss, acc = self.forward(batch, mode=\"train\")\n",
        "        self.log('train_loss', loss)\n",
        "        self.log('train_acc', acc)\n",
        "        return loss\n",
        "\n",
        "    def validation_step(self, batch, batch_idx):\n",
        "        _, acc = self.forward(batch, mode=\"val\")\n",
        "        self.log('val_acc', acc)\n",
        "\n",
        "    def test_step(self, batch, batch_idx):\n",
        "        _, acc = self.forward(batch, mode=\"test\")\n",
        "        self.log('test_acc', acc)"
      ],
      "metadata": {
        "id": "D0W6QjbHyJNq"
      },
      "execution_count": 21,
      "outputs": []
    },
    {
      "cell_type": "markdown",
      "source": [
        "Additionally to the Lightning module, we define a training function below.\n",
        "\n",
        "Besides, we set the argument `enable_progress_bar` to False as it usually shows the progress per epoch, but an epoch only consists of a single step."
      ],
      "metadata": {
        "id": "kj1BTmiq0DUw"
      }
    },
    {
      "cell_type": "code",
      "source": [
        "def train_graph_classifier(model_name, **model_kwargs):\n",
        "    pl.seed_everything(42)\n",
        "\n",
        "    # Create a PyTorch Lightning Trainer with teh generation callback\n",
        "    root_dir = os.path.join(CHECKPOINT_PATH, \"GraphLevel\" + model_name)\n",
        "    os.makedirs(root_dir, exist_ok=True)\n",
        "    trainer = pl.Trainer(default_root_dir=root_dir,\n",
        "                         callbacks=[ModelCheckpoint(save_weights_only=True, mode=\"max\", monitor=\"val_acc\")],\n",
        "                         accelerator=\"gpu\" if str(device).startswith(\"cuda\") else \"cpu\",\n",
        "                         devices=1,\n",
        "                         max_epochs=500,\n",
        "                         enable_progress_bar=False)\n",
        "    trainer.logger._default_hp_metric = None\n",
        "\n",
        "    # Check whether pretrained model exists. If yes, load it and skip training\n",
        "    pretrained_filename = os.path.join(CHECKPOINT_PATH, f\"GraphLevel{model_name}.ckpt\")\n",
        "    if os.path.isfile(pretrained_filename):\n",
        "        print(\"Found pretrained model, loading...\")\n",
        "        model = GraphLevelGNN.load_from_checkpoint(pretrained_filename)\n",
        "    else:\n",
        "        pl.seed_everything(42)\n",
        "        model = GraphLevelGNN(c_in=tu_dataset.num_node_features,\n",
        "                              c_out=1 if tu_dataset.num_classes==2 else tu_dataset.num_classes,\n",
        "                              **model_kwargs)\n",
        "        trainer.fit(model, graph_train_loader, graph_val_loader)\n",
        "        model = GraphLevelGNN.load_from_checkpoint(trainer.checkpoint_callback.best_model_path)\n",
        "\n",
        "    # Test best model on validation and test set\n",
        "    train_result = trainer.test(model, graph_train_loader, verbose=False)\n",
        "    test_result  = trainer.test(model, graph_test_loader, verbose=False)\n",
        "    result = {\"test\": test_result[0]['test_acc'],\n",
        "              \"train\": train_result[0]['test_acc']}\n",
        "\n",
        "    return model, result"
      ],
      "metadata": {
        "id": "5d7u7IUp0Aru"
      },
      "execution_count": 25,
      "outputs": []
    },
    {
      "cell_type": "markdown",
      "source": [
        "Finally, we can train our models. First let's train the simple MLP."
      ],
      "metadata": {
        "id": "Czv9rIda26aZ"
      }
    },
    {
      "cell_type": "code",
      "source": [
        "# Small function for printing the test scores.\n",
        "def print_results(result_dict):\n",
        "    if \"train\" in result_dict:\n",
        "        print(f\"Train accuracy: {(100.0 * result_dict['train']):4.2f}%\")\n",
        "    if \"val\" in result_dict:\n",
        "        print(f\"Val accuracy: {(100.0 * result_dict['val']):4.2f}\")\n",
        "    print(f\"Test accuracy: {(100.0 * result_dict['test']):4.2f}%\")"
      ],
      "metadata": {
        "id": "kZ5CUvpV2otL"
      },
      "execution_count": 26,
      "outputs": []
    },
    {
      "cell_type": "code",
      "source": [
        "model, result = train_graph_classifier(model_name=\"GraphConv\",\n",
        "                                        layer_name=\"GraphConv\",\n",
        "                                        c_hidden=256,\n",
        "                                         num_layers=3,\n",
        "                                        dp_rate_linear=0.5,\n",
        "                                        dp_rate=0.0)\n",
        "print(\"-\"*20)\n",
        "print_results(result)"
      ],
      "metadata": {
        "colab": {
          "base_uri": "https://localhost:8080/"
        },
        "id": "GuDcSQjh3Tnx",
        "outputId": "b69f0ad3-60e2-4eb9-c9ed-cc8a7ae408b6"
      },
      "execution_count": 27,
      "outputs": [
        {
          "output_type": "stream",
          "name": "stderr",
          "text": [
            "INFO:lightning_fabric.utilities.seed:Global seed set to 42\n",
            "INFO:pytorch_lightning.utilities.rank_zero:GPU available: False, used: False\n",
            "INFO:pytorch_lightning.utilities.rank_zero:TPU available: False, using: 0 TPU cores\n",
            "INFO:pytorch_lightning.utilities.rank_zero:IPU available: False, using: 0 IPUs\n",
            "INFO:pytorch_lightning.utilities.rank_zero:HPU available: False, using: 0 HPUs\n",
            "INFO:lightning_fabric.utilities.seed:Global seed set to 42\n",
            "INFO:pytorch_lightning.callbacks.model_summary:\n",
            "  | Name        | Type              | Params\n",
            "--------------------------------------------------\n",
            "0 | model       | GraphGNNModel     | 266 K \n",
            "1 | loss_module | BCEWithLogitsLoss | 0     \n",
            "--------------------------------------------------\n",
            "266 K     Trainable params\n",
            "0         Non-trainable params\n",
            "266 K     Total params\n",
            "1.067     Total estimated model params size (MB)\n",
            "INFO:pytorch_lightning.utilities.rank_zero:`Trainer.fit` stopped: `max_epochs=500` reached.\n"
          ]
        },
        {
          "output_type": "stream",
          "name": "stdout",
          "text": [
            "--------------------\n",
            "Train accuracy: 92.28%\n",
            "Test accuracy: 89.47%\n"
          ]
        },
        {
          "output_type": "stream",
          "name": "stderr",
          "text": [
            "/usr/local/lib/python3.10/dist-packages/pytorch_lightning/trainer/connectors/data_connector.py:480: PossibleUserWarning: Your `test_dataloader`'s sampler has shuffling enabled, it is strongly recommended that you turn shuffling off for val/test dataloaders.\n",
            "  rank_zero_warn(\n"
          ]
        }
      ]
    },
    {
      "cell_type": "markdown",
      "source": [
        "The test performance shows that we obtain quite good scores on an unseen part of the dataset.\n",
        "\n",
        "It should be noted that as we have been using the test set for validation as well, we might have overfitted slightly to this set. Nevertheless, the experiment shows us that GNNs can be indeed powerful to predict the properties of graphs and/or molecules"
      ],
      "metadata": {
        "id": "2MRHU6_g4TVU"
      }
    },
    {
      "cell_type": "code",
      "source": [],
      "metadata": {
        "id": "3DVEaqTC4PJH"
      },
      "execution_count": null,
      "outputs": []
    }
  ]
}